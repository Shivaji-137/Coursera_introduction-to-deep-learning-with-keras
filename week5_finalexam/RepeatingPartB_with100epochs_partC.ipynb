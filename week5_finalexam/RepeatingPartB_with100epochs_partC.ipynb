{
  "cells": [
    {
      "cell_type": "markdown",
      "metadata": {
        "id": "_zKNCgFZaXsP"
      },
      "source": [
        "# Part C: Increate the number of epochs\n",
        "## Repeat Part B but use 100 epochs this time for training"
      ]
    },
    {
      "cell_type": "code",
      "execution_count": 1,
      "metadata": {
        "colab": {
          "base_uri": "https://localhost:8080/"
        },
        "id": "zk4SUH0LJcVy",
        "outputId": "ad4602de-f300-4ca8-8487-a80ae1061495"
      },
      "outputs": [
        {
          "name": "stdout",
          "output_type": "stream",
          "text": [
            "--2024-03-15 16:14:54--  https://cocl.us/concrete_data\n",
            "Resolving cocl.us (cocl.us)... 2600:140f:5::173f:6dc3, 2600:140f:5::173f:6db8, 23.217.111.73, ...\n",
            "Connecting to cocl.us (cocl.us)|2600:140f:5::173f:6dc3|:443... connected.\n",
            "HTTP request sent, awaiting response... 302 Moved Temporarily\n",
            "Location: https://s3-api.us-geo.objectstorage.softlayer.net/cf-courses-data/CognitiveClass/DL0101EN/labs/data/concrete_data.csv [following]\n",
            "--2024-03-15 16:14:55--  https://s3-api.us-geo.objectstorage.softlayer.net/cf-courses-data/CognitiveClass/DL0101EN/labs/data/concrete_data.csv\n",
            "Resolving s3-api.us-geo.objectstorage.softlayer.net (s3-api.us-geo.objectstorage.softlayer.net)... 67.228.254.196\n",
            "Connecting to s3-api.us-geo.objectstorage.softlayer.net (s3-api.us-geo.objectstorage.softlayer.net)|67.228.254.196|:443... connected.\n",
            "HTTP request sent, awaiting response... 200 OK\n",
            "Length: 58988 (58K) [text/csv]\n",
            "Saving to: ‘concrete_data.csv’\n",
            "\n",
            "concrete_data.csv   100%[===================>]  57.61K  70.1KB/s    in 0.8s    \n",
            "\n",
            "2024-03-15 16:14:58 (70.1 KB/s) - ‘concrete_data.csv’ saved [58988/58988]\n",
            "\n"
          ]
        }
      ],
      "source": [
        "# download the concrete_data.csv file from url directly\n",
        "! wget -O concrete_data.csv https://cocl.us/concrete_data"
      ]
    },
    {
      "cell_type": "markdown",
      "metadata": {
        "id": "ZZ6ZKTNTJ_QG"
      },
      "source": [
        "## Let's import all necessary modules\n"
      ]
    },
    {
      "cell_type": "code",
      "execution_count": 2,
      "metadata": {
        "id": "iBKZvq47KKDZ"
      },
      "outputs": [
        {
          "name": "stderr",
          "output_type": "stream",
          "text": [
            "2024-03-15 16:15:14.403924: I tensorflow/tsl/cuda/cudart_stub.cc:28] Could not find cuda drivers on your machine, GPU will not be used.\n",
            "2024-03-15 16:15:14.487741: E tensorflow/compiler/xla/stream_executor/cuda/cuda_dnn.cc:9342] Unable to register cuDNN factory: Attempting to register factory for plugin cuDNN when one has already been registered\n",
            "2024-03-15 16:15:14.487782: E tensorflow/compiler/xla/stream_executor/cuda/cuda_fft.cc:609] Unable to register cuFFT factory: Attempting to register factory for plugin cuFFT when one has already been registered\n",
            "2024-03-15 16:15:14.487868: E tensorflow/compiler/xla/stream_executor/cuda/cuda_blas.cc:1518] Unable to register cuBLAS factory: Attempting to register factory for plugin cuBLAS when one has already been registered\n",
            "2024-03-15 16:15:14.503852: I tensorflow/tsl/cuda/cudart_stub.cc:28] Could not find cuda drivers on your machine, GPU will not be used.\n",
            "2024-03-15 16:15:14.504724: I tensorflow/core/platform/cpu_feature_guard.cc:182] This TensorFlow binary is optimized to use available CPU instructions in performance-critical operations.\n",
            "To enable the following instructions: AVX2 FMA, in other operations, rebuild TensorFlow with the appropriate compiler flags.\n",
            "2024-03-15 16:15:21.503948: W tensorflow/compiler/tf2tensorrt/utils/py_utils.cc:38] TF-TRT Warning: Could not find TensorRT\n"
          ]
        }
      ],
      "source": [
        "import pandas as pd    # for data analysis\n",
        "from sklearn.model_selection import train_test_split   #for splitting the data into training and testing sets\n",
        "import keras\n",
        "from keras.models import Sequential\n",
        "from keras.layers import Dense\n",
        "from sklearn.metrics import mean_squared_error    # for calculating mean_square error"
      ]
    },
    {
      "cell_type": "markdown",
      "metadata": {
        "id": "X_CEr8byLnXk"
      },
      "source": [
        "## Let's read the data from csv file and analyzing it using pandas"
      ]
    },
    {
      "cell_type": "code",
      "execution_count": 3,
      "metadata": {
        "id": "N1fxFmXJLuoc"
      },
      "outputs": [],
      "source": [
        "df = pd.read_csv(\"concrete_data.csv\")    # reading the data from csv file"
      ]
    },
    {
      "cell_type": "code",
      "execution_count": 4,
      "metadata": {
        "colab": {
          "base_uri": "https://localhost:8080/"
        },
        "id": "aOc_Jop6NGK0",
        "outputId": "6b4910ea-b082-4cb9-de2b-bba8bdb36185"
      },
      "outputs": [
        {
          "data": {
            "text/plain": [
              "(1030, 9)"
            ]
          },
          "execution_count": 4,
          "metadata": {},
          "output_type": "execute_result"
        }
      ],
      "source": [
        "df.shape  # it has 1030 rows and 9 columns"
      ]
    },
    {
      "cell_type": "markdown",
      "metadata": {
        "id": "NVLT6i0pL_HY"
      },
      "source": [
        "### let's read the top 10 rows of the data"
      ]
    },
    {
      "cell_type": "code",
      "execution_count": 5,
      "metadata": {
        "colab": {
          "base_uri": "https://localhost:8080/",
          "height": 380
        },
        "id": "Xwvw6a28MGyO",
        "outputId": "edbf30b5-758c-4f56-e5c6-3775c7a13442"
      },
      "outputs": [
        {
          "data": {
            "text/html": [
              "<div>\n",
              "<style scoped>\n",
              "    .dataframe tbody tr th:only-of-type {\n",
              "        vertical-align: middle;\n",
              "    }\n",
              "\n",
              "    .dataframe tbody tr th {\n",
              "        vertical-align: top;\n",
              "    }\n",
              "\n",
              "    .dataframe thead th {\n",
              "        text-align: right;\n",
              "    }\n",
              "</style>\n",
              "<table border=\"1\" class=\"dataframe\">\n",
              "  <thead>\n",
              "    <tr style=\"text-align: right;\">\n",
              "      <th></th>\n",
              "      <th>Cement</th>\n",
              "      <th>Blast Furnace Slag</th>\n",
              "      <th>Fly Ash</th>\n",
              "      <th>Water</th>\n",
              "      <th>Superplasticizer</th>\n",
              "      <th>Coarse Aggregate</th>\n",
              "      <th>Fine Aggregate</th>\n",
              "      <th>Age</th>\n",
              "      <th>Strength</th>\n",
              "    </tr>\n",
              "  </thead>\n",
              "  <tbody>\n",
              "    <tr>\n",
              "      <th>0</th>\n",
              "      <td>540.0</td>\n",
              "      <td>0.0</td>\n",
              "      <td>0.0</td>\n",
              "      <td>162.0</td>\n",
              "      <td>2.5</td>\n",
              "      <td>1040.0</td>\n",
              "      <td>676.0</td>\n",
              "      <td>28</td>\n",
              "      <td>79.99</td>\n",
              "    </tr>\n",
              "    <tr>\n",
              "      <th>1</th>\n",
              "      <td>540.0</td>\n",
              "      <td>0.0</td>\n",
              "      <td>0.0</td>\n",
              "      <td>162.0</td>\n",
              "      <td>2.5</td>\n",
              "      <td>1055.0</td>\n",
              "      <td>676.0</td>\n",
              "      <td>28</td>\n",
              "      <td>61.89</td>\n",
              "    </tr>\n",
              "    <tr>\n",
              "      <th>2</th>\n",
              "      <td>332.5</td>\n",
              "      <td>142.5</td>\n",
              "      <td>0.0</td>\n",
              "      <td>228.0</td>\n",
              "      <td>0.0</td>\n",
              "      <td>932.0</td>\n",
              "      <td>594.0</td>\n",
              "      <td>270</td>\n",
              "      <td>40.27</td>\n",
              "    </tr>\n",
              "    <tr>\n",
              "      <th>3</th>\n",
              "      <td>332.5</td>\n",
              "      <td>142.5</td>\n",
              "      <td>0.0</td>\n",
              "      <td>228.0</td>\n",
              "      <td>0.0</td>\n",
              "      <td>932.0</td>\n",
              "      <td>594.0</td>\n",
              "      <td>365</td>\n",
              "      <td>41.05</td>\n",
              "    </tr>\n",
              "    <tr>\n",
              "      <th>4</th>\n",
              "      <td>198.6</td>\n",
              "      <td>132.4</td>\n",
              "      <td>0.0</td>\n",
              "      <td>192.0</td>\n",
              "      <td>0.0</td>\n",
              "      <td>978.4</td>\n",
              "      <td>825.5</td>\n",
              "      <td>360</td>\n",
              "      <td>44.30</td>\n",
              "    </tr>\n",
              "    <tr>\n",
              "      <th>5</th>\n",
              "      <td>266.0</td>\n",
              "      <td>114.0</td>\n",
              "      <td>0.0</td>\n",
              "      <td>228.0</td>\n",
              "      <td>0.0</td>\n",
              "      <td>932.0</td>\n",
              "      <td>670.0</td>\n",
              "      <td>90</td>\n",
              "      <td>47.03</td>\n",
              "    </tr>\n",
              "    <tr>\n",
              "      <th>6</th>\n",
              "      <td>380.0</td>\n",
              "      <td>95.0</td>\n",
              "      <td>0.0</td>\n",
              "      <td>228.0</td>\n",
              "      <td>0.0</td>\n",
              "      <td>932.0</td>\n",
              "      <td>594.0</td>\n",
              "      <td>365</td>\n",
              "      <td>43.70</td>\n",
              "    </tr>\n",
              "    <tr>\n",
              "      <th>7</th>\n",
              "      <td>380.0</td>\n",
              "      <td>95.0</td>\n",
              "      <td>0.0</td>\n",
              "      <td>228.0</td>\n",
              "      <td>0.0</td>\n",
              "      <td>932.0</td>\n",
              "      <td>594.0</td>\n",
              "      <td>28</td>\n",
              "      <td>36.45</td>\n",
              "    </tr>\n",
              "    <tr>\n",
              "      <th>8</th>\n",
              "      <td>266.0</td>\n",
              "      <td>114.0</td>\n",
              "      <td>0.0</td>\n",
              "      <td>228.0</td>\n",
              "      <td>0.0</td>\n",
              "      <td>932.0</td>\n",
              "      <td>670.0</td>\n",
              "      <td>28</td>\n",
              "      <td>45.85</td>\n",
              "    </tr>\n",
              "    <tr>\n",
              "      <th>9</th>\n",
              "      <td>475.0</td>\n",
              "      <td>0.0</td>\n",
              "      <td>0.0</td>\n",
              "      <td>228.0</td>\n",
              "      <td>0.0</td>\n",
              "      <td>932.0</td>\n",
              "      <td>594.0</td>\n",
              "      <td>28</td>\n",
              "      <td>39.29</td>\n",
              "    </tr>\n",
              "  </tbody>\n",
              "</table>\n",
              "</div>"
            ],
            "text/plain": [
              "   Cement  Blast Furnace Slag  Fly Ash  Water  Superplasticizer  \\\n",
              "0   540.0                 0.0      0.0  162.0               2.5   \n",
              "1   540.0                 0.0      0.0  162.0               2.5   \n",
              "2   332.5               142.5      0.0  228.0               0.0   \n",
              "3   332.5               142.5      0.0  228.0               0.0   \n",
              "4   198.6               132.4      0.0  192.0               0.0   \n",
              "5   266.0               114.0      0.0  228.0               0.0   \n",
              "6   380.0                95.0      0.0  228.0               0.0   \n",
              "7   380.0                95.0      0.0  228.0               0.0   \n",
              "8   266.0               114.0      0.0  228.0               0.0   \n",
              "9   475.0                 0.0      0.0  228.0               0.0   \n",
              "\n",
              "   Coarse Aggregate  Fine Aggregate  Age  Strength  \n",
              "0            1040.0           676.0   28     79.99  \n",
              "1            1055.0           676.0   28     61.89  \n",
              "2             932.0           594.0  270     40.27  \n",
              "3             932.0           594.0  365     41.05  \n",
              "4             978.4           825.5  360     44.30  \n",
              "5             932.0           670.0   90     47.03  \n",
              "6             932.0           594.0  365     43.70  \n",
              "7             932.0           594.0   28     36.45  \n",
              "8             932.0           670.0   28     45.85  \n",
              "9             932.0           594.0   28     39.29  "
            ]
          },
          "execution_count": 5,
          "metadata": {},
          "output_type": "execute_result"
        }
      ],
      "source": [
        "df.head(n=10)"
      ]
    },
    {
      "cell_type": "markdown",
      "metadata": {
        "id": "W1HahEnnMOrA"
      },
      "source": [
        "### Statistics summary of the data"
      ]
    },
    {
      "cell_type": "code",
      "execution_count": 6,
      "metadata": {
        "colab": {
          "base_uri": "https://localhost:8080/",
          "height": 332
        },
        "id": "ApDI73cOMVKN",
        "outputId": "757b945d-3725-4482-c256-fa5991221e9e"
      },
      "outputs": [
        {
          "data": {
            "text/html": [
              "<div>\n",
              "<style scoped>\n",
              "    .dataframe tbody tr th:only-of-type {\n",
              "        vertical-align: middle;\n",
              "    }\n",
              "\n",
              "    .dataframe tbody tr th {\n",
              "        vertical-align: top;\n",
              "    }\n",
              "\n",
              "    .dataframe thead th {\n",
              "        text-align: right;\n",
              "    }\n",
              "</style>\n",
              "<table border=\"1\" class=\"dataframe\">\n",
              "  <thead>\n",
              "    <tr style=\"text-align: right;\">\n",
              "      <th></th>\n",
              "      <th>count</th>\n",
              "      <th>mean</th>\n",
              "      <th>std</th>\n",
              "      <th>min</th>\n",
              "      <th>25%</th>\n",
              "      <th>50%</th>\n",
              "      <th>75%</th>\n",
              "      <th>max</th>\n",
              "    </tr>\n",
              "  </thead>\n",
              "  <tbody>\n",
              "    <tr>\n",
              "      <th>Cement</th>\n",
              "      <td>1030.0</td>\n",
              "      <td>281.167864</td>\n",
              "      <td>104.506364</td>\n",
              "      <td>102.00</td>\n",
              "      <td>192.375</td>\n",
              "      <td>272.900</td>\n",
              "      <td>350.000</td>\n",
              "      <td>540.0</td>\n",
              "    </tr>\n",
              "    <tr>\n",
              "      <th>Blast Furnace Slag</th>\n",
              "      <td>1030.0</td>\n",
              "      <td>73.895825</td>\n",
              "      <td>86.279342</td>\n",
              "      <td>0.00</td>\n",
              "      <td>0.000</td>\n",
              "      <td>22.000</td>\n",
              "      <td>142.950</td>\n",
              "      <td>359.4</td>\n",
              "    </tr>\n",
              "    <tr>\n",
              "      <th>Fly Ash</th>\n",
              "      <td>1030.0</td>\n",
              "      <td>54.188350</td>\n",
              "      <td>63.997004</td>\n",
              "      <td>0.00</td>\n",
              "      <td>0.000</td>\n",
              "      <td>0.000</td>\n",
              "      <td>118.300</td>\n",
              "      <td>200.1</td>\n",
              "    </tr>\n",
              "    <tr>\n",
              "      <th>Water</th>\n",
              "      <td>1030.0</td>\n",
              "      <td>181.567282</td>\n",
              "      <td>21.354219</td>\n",
              "      <td>121.80</td>\n",
              "      <td>164.900</td>\n",
              "      <td>185.000</td>\n",
              "      <td>192.000</td>\n",
              "      <td>247.0</td>\n",
              "    </tr>\n",
              "    <tr>\n",
              "      <th>Superplasticizer</th>\n",
              "      <td>1030.0</td>\n",
              "      <td>6.204660</td>\n",
              "      <td>5.973841</td>\n",
              "      <td>0.00</td>\n",
              "      <td>0.000</td>\n",
              "      <td>6.400</td>\n",
              "      <td>10.200</td>\n",
              "      <td>32.2</td>\n",
              "    </tr>\n",
              "    <tr>\n",
              "      <th>Coarse Aggregate</th>\n",
              "      <td>1030.0</td>\n",
              "      <td>972.918932</td>\n",
              "      <td>77.753954</td>\n",
              "      <td>801.00</td>\n",
              "      <td>932.000</td>\n",
              "      <td>968.000</td>\n",
              "      <td>1029.400</td>\n",
              "      <td>1145.0</td>\n",
              "    </tr>\n",
              "    <tr>\n",
              "      <th>Fine Aggregate</th>\n",
              "      <td>1030.0</td>\n",
              "      <td>773.580485</td>\n",
              "      <td>80.175980</td>\n",
              "      <td>594.00</td>\n",
              "      <td>730.950</td>\n",
              "      <td>779.500</td>\n",
              "      <td>824.000</td>\n",
              "      <td>992.6</td>\n",
              "    </tr>\n",
              "    <tr>\n",
              "      <th>Age</th>\n",
              "      <td>1030.0</td>\n",
              "      <td>45.662136</td>\n",
              "      <td>63.169912</td>\n",
              "      <td>1.00</td>\n",
              "      <td>7.000</td>\n",
              "      <td>28.000</td>\n",
              "      <td>56.000</td>\n",
              "      <td>365.0</td>\n",
              "    </tr>\n",
              "    <tr>\n",
              "      <th>Strength</th>\n",
              "      <td>1030.0</td>\n",
              "      <td>35.817961</td>\n",
              "      <td>16.705742</td>\n",
              "      <td>2.33</td>\n",
              "      <td>23.710</td>\n",
              "      <td>34.445</td>\n",
              "      <td>46.135</td>\n",
              "      <td>82.6</td>\n",
              "    </tr>\n",
              "  </tbody>\n",
              "</table>\n",
              "</div>"
            ],
            "text/plain": [
              "                     count        mean         std     min      25%      50%  \\\n",
              "Cement              1030.0  281.167864  104.506364  102.00  192.375  272.900   \n",
              "Blast Furnace Slag  1030.0   73.895825   86.279342    0.00    0.000   22.000   \n",
              "Fly Ash             1030.0   54.188350   63.997004    0.00    0.000    0.000   \n",
              "Water               1030.0  181.567282   21.354219  121.80  164.900  185.000   \n",
              "Superplasticizer    1030.0    6.204660    5.973841    0.00    0.000    6.400   \n",
              "Coarse Aggregate    1030.0  972.918932   77.753954  801.00  932.000  968.000   \n",
              "Fine Aggregate      1030.0  773.580485   80.175980  594.00  730.950  779.500   \n",
              "Age                 1030.0   45.662136   63.169912    1.00    7.000   28.000   \n",
              "Strength            1030.0   35.817961   16.705742    2.33   23.710   34.445   \n",
              "\n",
              "                         75%     max  \n",
              "Cement               350.000   540.0  \n",
              "Blast Furnace Slag   142.950   359.4  \n",
              "Fly Ash              118.300   200.1  \n",
              "Water                192.000   247.0  \n",
              "Superplasticizer      10.200    32.2  \n",
              "Coarse Aggregate    1029.400  1145.0  \n",
              "Fine Aggregate       824.000   992.6  \n",
              "Age                   56.000   365.0  \n",
              "Strength              46.135    82.6  "
            ]
          },
          "execution_count": 6,
          "metadata": {},
          "output_type": "execute_result"
        }
      ],
      "source": [
        "df.describe().T"
      ]
    },
    {
      "cell_type": "markdown",
      "metadata": {
        "id": "3VtFfXyaMawg"
      },
      "source": [
        "### Check the null or missing value in the data"
      ]
    },
    {
      "cell_type": "code",
      "execution_count": 7,
      "metadata": {
        "colab": {
          "base_uri": "https://localhost:8080/"
        },
        "id": "maR-6rL6MiJd",
        "outputId": "b7333631-62b2-42b9-8c5a-485c66d0c1ca"
      },
      "outputs": [
        {
          "name": "stdout",
          "output_type": "stream",
          "text": [
            "<class 'pandas.core.frame.DataFrame'>\n",
            "RangeIndex: 1030 entries, 0 to 1029\n",
            "Data columns (total 9 columns):\n",
            " #   Column              Non-Null Count  Dtype  \n",
            "---  ------              --------------  -----  \n",
            " 0   Cement              1030 non-null   float64\n",
            " 1   Blast Furnace Slag  1030 non-null   float64\n",
            " 2   Fly Ash             1030 non-null   float64\n",
            " 3   Water               1030 non-null   float64\n",
            " 4   Superplasticizer    1030 non-null   float64\n",
            " 5   Coarse Aggregate    1030 non-null   float64\n",
            " 6   Fine Aggregate      1030 non-null   float64\n",
            " 7   Age                 1030 non-null   int64  \n",
            " 8   Strength            1030 non-null   float64\n",
            "dtypes: float64(8), int64(1)\n",
            "memory usage: 72.6 KB\n"
          ]
        }
      ],
      "source": [
        "df.info()"
      ]
    },
    {
      "cell_type": "code",
      "execution_count": 8,
      "metadata": {
        "colab": {
          "base_uri": "https://localhost:8080/"
        },
        "id": "NnQEuABTMl_o",
        "outputId": "071b398b-5c56-4e28-a0be-cc361888f7b7"
      },
      "outputs": [
        {
          "data": {
            "text/plain": [
              "Cement                0\n",
              "Blast Furnace Slag    0\n",
              "Fly Ash               0\n",
              "Water                 0\n",
              "Superplasticizer      0\n",
              "Coarse Aggregate      0\n",
              "Fine Aggregate        0\n",
              "Age                   0\n",
              "Strength              0\n",
              "dtype: int64"
            ]
          },
          "execution_count": 8,
          "metadata": {},
          "output_type": "execute_result"
        }
      ],
      "source": [
        "df.isnull().sum()\n",
        "# there is no any null or missing values"
      ]
    },
    {
      "cell_type": "markdown",
      "metadata": {
        "id": "64aRulT8Ng92"
      },
      "source": [
        "## Prepare the data for features as input and target as output"
      ]
    },
    {
      "cell_type": "code",
      "execution_count": 9,
      "metadata": {
        "id": "FQThLqa4Nqgx"
      },
      "outputs": [],
      "source": [
        "features = df[df.columns.to_list()[:-1]]\n",
        "target = df['Strength']"
      ]
    },
    {
      "cell_type": "code",
      "execution_count": 10,
      "metadata": {
        "colab": {
          "base_uri": "https://localhost:8080/"
        },
        "id": "TytANUaMUsCW",
        "outputId": "e7e9e826-c767-4a8e-81ee-a05be820d6b3"
      },
      "outputs": [
        {
          "data": {
            "text/plain": [
              "8"
            ]
          },
          "execution_count": 10,
          "metadata": {},
          "output_type": "execute_result"
        }
      ],
      "source": [
        "features.shape[1]"
      ]
    },
    {
      "cell_type": "code",
      "execution_count": 11,
      "metadata": {
        "id": "vMgoDGwzbPXg"
      },
      "outputs": [],
      "source": [
        "# Let's Normalize the Data\n",
        "features_norm = (features-features.mean())/features.std()"
      ]
    },
    {
      "cell_type": "markdown",
      "metadata": {
        "id": "5Rbgo1YMK9Iv"
      },
      "source": [
        "## Let's define regression model function\n",
        "### With one hidden layer of 10 nodes, and a ReLU activation function\n",
        "### Using the adam optimizer and the mean squared error  as the loss function."
      ]
    },
    {
      "cell_type": "code",
      "execution_count": 12,
      "metadata": {
        "id": "vXqfRveKLTrG"
      },
      "outputs": [],
      "source": [
        "def regression_model():\n",
        "  model = Sequential()\n",
        "\n",
        "  model.add(Dense(10, activation='relu', input_shape = (features_norm.shape[1],)))   # one hidden layer with 10 nodes\n",
        "  model.add(Dense(1))      # one output layer with 1 nodes\n",
        "\n",
        "  model.compile(optimizer='adam', loss='mean_squared_error')\n",
        "  return model"
      ]
    },
    {
      "cell_type": "markdown",
      "metadata": {
        "id": "XpnVIVuvPRLH"
      },
      "source": [
        "## Split the data into training and testing sets using train_test_split from sklearn with 30% testing size"
      ]
    },
    {
      "cell_type": "code",
      "execution_count": 13,
      "metadata": {
        "id": "NNzQldkYPZmH"
      },
      "outputs": [],
      "source": [
        "X_train, X_test, y_train, y_test = train_test_split(features_norm, target, test_size = 0.3, random_state=4)"
      ]
    },
    {
      "cell_type": "markdown",
      "metadata": {
        "id": "2u_Uw0ZsSpYd"
      },
      "source": [
        "## Training the model on training data X_train and y_train using 100 epochs"
      ]
    },
    {
      "cell_type": "code",
      "execution_count": 14,
      "metadata": {
        "id": "RxveSV6_SMGY"
      },
      "outputs": [],
      "source": [
        "# let's call the function\n",
        "model = regression_model()"
      ]
    },
    {
      "cell_type": "code",
      "execution_count": 15,
      "metadata": {
        "id": "mf2GgGuBS_yS"
      },
      "outputs": [
        {
          "name": "stdout",
          "output_type": "stream",
          "text": [
            "Epoch 1/100\n",
            "23/23 - 1s - loss: 1612.4307 - 917ms/epoch - 40ms/step\n",
            "Epoch 2/100\n",
            "23/23 - 0s - loss: 1596.9098 - 50ms/epoch - 2ms/step\n",
            "Epoch 3/100\n",
            "23/23 - 0s - loss: 1582.2946 - 50ms/epoch - 2ms/step\n",
            "Epoch 4/100\n",
            "23/23 - 0s - loss: 1568.3522 - 52ms/epoch - 2ms/step\n",
            "Epoch 5/100\n",
            "23/23 - 0s - loss: 1554.5977 - 48ms/epoch - 2ms/step\n",
            "Epoch 6/100\n",
            "23/23 - 0s - loss: 1541.1283 - 52ms/epoch - 2ms/step\n",
            "Epoch 7/100\n",
            "23/23 - 0s - loss: 1527.5220 - 71ms/epoch - 3ms/step\n",
            "Epoch 8/100\n",
            "23/23 - 0s - loss: 1513.2783 - 85ms/epoch - 4ms/step\n",
            "Epoch 9/100\n",
            "23/23 - 0s - loss: 1498.4463 - 79ms/epoch - 3ms/step\n",
            "Epoch 10/100\n",
            "23/23 - 0s - loss: 1482.7266 - 68ms/epoch - 3ms/step\n",
            "Epoch 11/100\n",
            "23/23 - 0s - loss: 1465.8754 - 58ms/epoch - 3ms/step\n",
            "Epoch 12/100\n",
            "23/23 - 0s - loss: 1447.9055 - 51ms/epoch - 2ms/step\n",
            "Epoch 13/100\n",
            "23/23 - 0s - loss: 1428.4475 - 52ms/epoch - 2ms/step\n",
            "Epoch 14/100\n",
            "23/23 - 0s - loss: 1408.0300 - 49ms/epoch - 2ms/step\n",
            "Epoch 15/100\n",
            "23/23 - 0s - loss: 1386.2429 - 48ms/epoch - 2ms/step\n",
            "Epoch 16/100\n",
            "23/23 - 0s - loss: 1363.5565 - 47ms/epoch - 2ms/step\n",
            "Epoch 17/100\n",
            "23/23 - 0s - loss: 1339.2800 - 48ms/epoch - 2ms/step\n",
            "Epoch 18/100\n",
            "23/23 - 0s - loss: 1314.3925 - 49ms/epoch - 2ms/step\n",
            "Epoch 19/100\n",
            "23/23 - 0s - loss: 1288.2596 - 51ms/epoch - 2ms/step\n",
            "Epoch 20/100\n",
            "23/23 - 0s - loss: 1260.9698 - 70ms/epoch - 3ms/step\n",
            "Epoch 21/100\n",
            "23/23 - 0s - loss: 1232.7483 - 73ms/epoch - 3ms/step\n",
            "Epoch 22/100\n",
            "23/23 - 0s - loss: 1203.8037 - 62ms/epoch - 3ms/step\n",
            "Epoch 23/100\n",
            "23/23 - 0s - loss: 1174.4269 - 57ms/epoch - 2ms/step\n",
            "Epoch 24/100\n",
            "23/23 - 0s - loss: 1144.0334 - 71ms/epoch - 3ms/step\n",
            "Epoch 25/100\n",
            "23/23 - 0s - loss: 1113.6829 - 48ms/epoch - 2ms/step\n",
            "Epoch 26/100\n",
            "23/23 - 0s - loss: 1082.4547 - 50ms/epoch - 2ms/step\n",
            "Epoch 27/100\n",
            "23/23 - 0s - loss: 1051.1318 - 47ms/epoch - 2ms/step\n",
            "Epoch 28/100\n",
            "23/23 - 0s - loss: 1019.3653 - 47ms/epoch - 2ms/step\n",
            "Epoch 29/100\n",
            "23/23 - 0s - loss: 987.8505 - 49ms/epoch - 2ms/step\n",
            "Epoch 30/100\n",
            "23/23 - 0s - loss: 955.7278 - 47ms/epoch - 2ms/step\n",
            "Epoch 31/100\n",
            "23/23 - 0s - loss: 924.2721 - 54ms/epoch - 2ms/step\n",
            "Epoch 32/100\n",
            "23/23 - 0s - loss: 893.0359 - 71ms/epoch - 3ms/step\n",
            "Epoch 33/100\n",
            "23/23 - 0s - loss: 861.7648 - 92ms/epoch - 4ms/step\n",
            "Epoch 34/100\n",
            "23/23 - 0s - loss: 831.0043 - 82ms/epoch - 4ms/step\n",
            "Epoch 35/100\n",
            "23/23 - 0s - loss: 800.6343 - 51ms/epoch - 2ms/step\n",
            "Epoch 36/100\n",
            "23/23 - 0s - loss: 770.9491 - 49ms/epoch - 2ms/step\n",
            "Epoch 37/100\n",
            "23/23 - 0s - loss: 741.4386 - 52ms/epoch - 2ms/step\n",
            "Epoch 38/100\n",
            "23/23 - 0s - loss: 713.0449 - 51ms/epoch - 2ms/step\n",
            "Epoch 39/100\n",
            "23/23 - 0s - loss: 685.1940 - 49ms/epoch - 2ms/step\n",
            "Epoch 40/100\n",
            "23/23 - 0s - loss: 658.1226 - 53ms/epoch - 2ms/step\n",
            "Epoch 41/100\n",
            "23/23 - 0s - loss: 631.8732 - 53ms/epoch - 2ms/step\n",
            "Epoch 42/100\n",
            "23/23 - 0s - loss: 606.4848 - 52ms/epoch - 2ms/step\n",
            "Epoch 43/100\n",
            "23/23 - 0s - loss: 582.0831 - 49ms/epoch - 2ms/step\n",
            "Epoch 44/100\n",
            "23/23 - 0s - loss: 558.5422 - 49ms/epoch - 2ms/step\n",
            "Epoch 45/100\n",
            "23/23 - 0s - loss: 535.6097 - 48ms/epoch - 2ms/step\n",
            "Epoch 46/100\n",
            "23/23 - 0s - loss: 513.9379 - 48ms/epoch - 2ms/step\n",
            "Epoch 47/100\n",
            "23/23 - 0s - loss: 493.6191 - 50ms/epoch - 2ms/step\n",
            "Epoch 48/100\n",
            "23/23 - 0s - loss: 473.9583 - 56ms/epoch - 2ms/step\n",
            "Epoch 49/100\n",
            "23/23 - 0s - loss: 455.3920 - 72ms/epoch - 3ms/step\n",
            "Epoch 50/100\n",
            "23/23 - 0s - loss: 437.7426 - 80ms/epoch - 3ms/step\n",
            "Epoch 51/100\n",
            "23/23 - 0s - loss: 420.8276 - 85ms/epoch - 4ms/step\n",
            "Epoch 52/100\n",
            "23/23 - 0s - loss: 405.2945 - 70ms/epoch - 3ms/step\n",
            "Epoch 53/100\n",
            "23/23 - 0s - loss: 390.0812 - 52ms/epoch - 2ms/step\n",
            "Epoch 54/100\n",
            "23/23 - 0s - loss: 376.1436 - 50ms/epoch - 2ms/step\n",
            "Epoch 55/100\n",
            "23/23 - 0s - loss: 362.8051 - 50ms/epoch - 2ms/step\n",
            "Epoch 56/100\n",
            "23/23 - 0s - loss: 350.2251 - 47ms/epoch - 2ms/step\n",
            "Epoch 57/100\n",
            "23/23 - 0s - loss: 338.8668 - 52ms/epoch - 2ms/step\n",
            "Epoch 58/100\n",
            "23/23 - 0s - loss: 327.7912 - 53ms/epoch - 2ms/step\n",
            "Epoch 59/100\n",
            "23/23 - 0s - loss: 317.7773 - 51ms/epoch - 2ms/step\n",
            "Epoch 60/100\n",
            "23/23 - 0s - loss: 308.1928 - 51ms/epoch - 2ms/step\n",
            "Epoch 61/100\n",
            "23/23 - 0s - loss: 299.4601 - 50ms/epoch - 2ms/step\n",
            "Epoch 62/100\n",
            "23/23 - 0s - loss: 291.5336 - 51ms/epoch - 2ms/step\n",
            "Epoch 63/100\n",
            "23/23 - 0s - loss: 283.7628 - 94ms/epoch - 4ms/step\n",
            "Epoch 64/100\n",
            "23/23 - 0s - loss: 276.8266 - 128ms/epoch - 6ms/step\n",
            "Epoch 65/100\n",
            "23/23 - 0s - loss: 270.1187 - 58ms/epoch - 3ms/step\n",
            "Epoch 66/100\n",
            "23/23 - 0s - loss: 264.1231 - 52ms/epoch - 2ms/step\n",
            "Epoch 67/100\n",
            "23/23 - 0s - loss: 258.2751 - 66ms/epoch - 3ms/step\n",
            "Epoch 68/100\n",
            "23/23 - 0s - loss: 253.1045 - 67ms/epoch - 3ms/step\n",
            "Epoch 69/100\n",
            "23/23 - 0s - loss: 248.4341 - 70ms/epoch - 3ms/step\n",
            "Epoch 70/100\n",
            "23/23 - 0s - loss: 243.7924 - 66ms/epoch - 3ms/step\n",
            "Epoch 71/100\n",
            "23/23 - 0s - loss: 239.5558 - 64ms/epoch - 3ms/step\n",
            "Epoch 72/100\n",
            "23/23 - 0s - loss: 235.6994 - 54ms/epoch - 2ms/step\n",
            "Epoch 73/100\n",
            "23/23 - 0s - loss: 232.1685 - 58ms/epoch - 3ms/step\n",
            "Epoch 74/100\n",
            "23/23 - 0s - loss: 228.6250 - 60ms/epoch - 3ms/step\n",
            "Epoch 75/100\n",
            "23/23 - 0s - loss: 225.6374 - 54ms/epoch - 2ms/step\n",
            "Epoch 76/100\n",
            "23/23 - 0s - loss: 222.6024 - 51ms/epoch - 2ms/step\n",
            "Epoch 77/100\n",
            "23/23 - 0s - loss: 219.6898 - 127ms/epoch - 6ms/step\n",
            "Epoch 78/100\n",
            "23/23 - 0s - loss: 217.1210 - 92ms/epoch - 4ms/step\n",
            "Epoch 79/100\n",
            "23/23 - 0s - loss: 214.4324 - 63ms/epoch - 3ms/step\n",
            "Epoch 80/100\n",
            "23/23 - 0s - loss: 211.9429 - 54ms/epoch - 2ms/step\n",
            "Epoch 81/100\n",
            "23/23 - 0s - loss: 209.5723 - 61ms/epoch - 3ms/step\n",
            "Epoch 82/100\n",
            "23/23 - 0s - loss: 207.3080 - 54ms/epoch - 2ms/step\n",
            "Epoch 83/100\n",
            "23/23 - 0s - loss: 204.9883 - 55ms/epoch - 2ms/step\n",
            "Epoch 84/100\n",
            "23/23 - 0s - loss: 202.8920 - 70ms/epoch - 3ms/step\n",
            "Epoch 85/100\n",
            "23/23 - 0s - loss: 200.7895 - 94ms/epoch - 4ms/step\n",
            "Epoch 86/100\n",
            "23/23 - 0s - loss: 198.7332 - 98ms/epoch - 4ms/step\n",
            "Epoch 87/100\n",
            "23/23 - 0s - loss: 196.7461 - 94ms/epoch - 4ms/step\n",
            "Epoch 88/100\n",
            "23/23 - 0s - loss: 194.8257 - 54ms/epoch - 2ms/step\n",
            "Epoch 89/100\n",
            "23/23 - 0s - loss: 192.9549 - 56ms/epoch - 2ms/step\n",
            "Epoch 90/100\n",
            "23/23 - 0s - loss: 191.0450 - 55ms/epoch - 2ms/step\n",
            "Epoch 91/100\n",
            "23/23 - 0s - loss: 189.2342 - 53ms/epoch - 2ms/step\n",
            "Epoch 92/100\n",
            "23/23 - 0s - loss: 187.4189 - 58ms/epoch - 3ms/step\n",
            "Epoch 93/100\n",
            "23/23 - 0s - loss: 185.6860 - 54ms/epoch - 2ms/step\n",
            "Epoch 94/100\n",
            "23/23 - 0s - loss: 183.8898 - 52ms/epoch - 2ms/step\n",
            "Epoch 95/100\n",
            "23/23 - 0s - loss: 182.1474 - 53ms/epoch - 2ms/step\n",
            "Epoch 96/100\n",
            "23/23 - 0s - loss: 180.4971 - 55ms/epoch - 2ms/step\n",
            "Epoch 97/100\n",
            "23/23 - 0s - loss: 178.8686 - 59ms/epoch - 3ms/step\n",
            "Epoch 98/100\n",
            "23/23 - 0s - loss: 177.2921 - 53ms/epoch - 2ms/step\n",
            "Epoch 99/100\n",
            "23/23 - 0s - loss: 175.7548 - 55ms/epoch - 2ms/step\n",
            "Epoch 100/100\n",
            "23/23 - 0s - loss: 174.2569 - 56ms/epoch - 2ms/step\n"
          ]
        },
        {
          "data": {
            "text/plain": [
              "<keras.src.callbacks.History at 0x7f89d5816d90>"
            ]
          },
          "execution_count": 15,
          "metadata": {},
          "output_type": "execute_result"
        }
      ],
      "source": [
        "# Train the model on training\n",
        "model.fit(X_train, y_train, epochs = 100, verbose=2)"
      ]
    },
    {
      "cell_type": "markdown",
      "metadata": {
        "id": "UqR0lbE1VS-g"
      },
      "source": [
        "## Predict the model on testing data X_test"
      ]
    },
    {
      "cell_type": "code",
      "execution_count": 16,
      "metadata": {
        "colab": {
          "base_uri": "https://localhost:8080/"
        },
        "id": "8SBtyGwsVB_b",
        "outputId": "0ea5eda6-b681-48a1-b232-a381a45f4c39"
      },
      "outputs": [
        {
          "name": "stdout",
          "output_type": "stream",
          "text": [
            "10/10 [==============================] - 0s 3ms/step\n"
          ]
        }
      ],
      "source": [
        "# predict the model on test data\n",
        "predictions = model.predict(X_test)"
      ]
    },
    {
      "cell_type": "markdown",
      "metadata": {
        "id": "DVNaQIexVXq2"
      },
      "source": [
        "## Evaluate mean_square error on predicted data and y_test data using scikit learn"
      ]
    },
    {
      "cell_type": "code",
      "execution_count": 17,
      "metadata": {
        "colab": {
          "base_uri": "https://localhost:8080/"
        },
        "id": "nhyASOnwVRYq",
        "outputId": "e374a24f-4300-4a3d-99d9-c71ae159edc2"
      },
      "outputs": [
        {
          "name": "stdout",
          "output_type": "stream",
          "text": [
            "The mean squared error is: 198.4103184112582\n"
          ]
        }
      ],
      "source": [
        "mse = mean_squared_error(predictions, y_test)\n",
        "print(f\"The mean squared error is: {mse}\")"
      ]
    },
    {
      "cell_type": "code",
      "execution_count": null,
      "metadata": {
        "id": "mvjy8ws5XMU6"
      },
      "outputs": [],
      "source": [
        "# list of value of 50 mean_squared error, counted by re running the session after random_state set to 4\n",
        "mse_value = []\n",
        "for i in range(0,50):\n",
        "    model.fit(X_train, y_train, epochs = 100, verbose=2)\n",
        "    predictions = model.predict(X_test)\n",
        "    mse = mean_squared_error(predictions, y_test)\n",
        "    mse_value.append(mse)"
      ]
    },
    {
      "cell_type": "code",
      "execution_count": 21,
      "metadata": {
        "colab": {
          "base_uri": "https://localhost:8080/"
        },
        "id": "QkZtGO2_Y0-Z",
        "outputId": "fbf7d7fc-15c6-4fec-b77b-b8fdf415c9bf"
      },
      "outputs": [
        {
          "name": "stdout",
          "output_type": "stream",
          "text": [
            "The mean and standard deviation of mean square errors after repeating 50 times is 38.1097667112202 and 9.528818270991444\n"
          ]
        }
      ],
      "source": [
        "# mean and the standard deviation of the mean squared errors\n",
        "import numpy as np\n",
        "mean_mse = np.mean(mse_value)\n",
        "SD_mse = np.std(mse_value)\n",
        "print(f\"The mean and standard deviation of mean square errors after repeating 50 times is {mean_mse} and {SD_mse}\")"
      ]
    }
  ],
  "metadata": {
    "accelerator": "GPU",
    "colab": {
      "gpuType": "T4",
      "provenance": []
    },
    "kernelspec": {
      "display_name": "Python 3",
      "name": "python3"
    },
    "language_info": {
      "codemirror_mode": {
        "name": "ipython",
        "version": 3
      },
      "file_extension": ".py",
      "mimetype": "text/x-python",
      "name": "python",
      "nbconvert_exporter": "python",
      "pygments_lexer": "ipython3",
      "version": "3.11.5"
    }
  },
  "nbformat": 4,
  "nbformat_minor": 0
}
